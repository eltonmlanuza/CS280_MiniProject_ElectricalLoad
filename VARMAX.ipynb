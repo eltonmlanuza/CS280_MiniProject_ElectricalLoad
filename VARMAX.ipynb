{
 "cells": [
  {
   "cell_type": "code",
   "execution_count": 131,
   "metadata": {},
   "outputs": [],
   "source": [
    "import pandas as pd\n",
    "import matplotlib.pyplot as plt\n",
    "from statsmodels.tsa.statespace.varmax import VARMAX\n",
    "import numpy as np\n",
    "from statsmodels.tsa.stattools import adfuller\n",
    "from sklearn import metrics\n",
    "from timeit import default_timer as timer\n",
    "import warnings\n",
    "warnings.filterwarnings(\"ignore\")\n",
    "import pickle"
   ]
  },
  {
   "cell_type": "code",
   "execution_count": 132,
   "metadata": {},
   "outputs": [],
   "source": [
    "def backup(object, filename):\n",
    "    with open(filename, 'wb') as f:\n",
    "        pickle.dump(object, f, pickle.HIGHEST_PROTOCOL)\n",
    "\n",
    "def reload(persist):\n",
    "    with open(persist, 'rb') as f:\n",
    "        # The protocol version used is detected automatically, so we do not\n",
    "        # have to specify it.\n",
    "        data = pickle.load(f)\n",
    "    return data"
   ]
  },
  {
   "cell_type": "code",
   "execution_count": 2,
   "metadata": {},
   "outputs": [],
   "source": [
    "pathCSV = r'ProcessedDataCenterHall.csv'\n",
    "df = pd.read_csv(pathCSV, index_col=0, parse_dates=True)"
   ]
  },
  {
   "cell_type": "code",
   "execution_count": 3,
   "metadata": {},
   "outputs": [],
   "source": [
    "dfrefrange = pd.read_csv(\"ngboost_dataset.gz\", index_col=0, parse_dates=True)"
   ]
  },
  {
   "cell_type": "code",
   "execution_count": 4,
   "metadata": {},
   "outputs": [],
   "source": [
    "#truncate the data same as in ngboost dataset\n",
    "df = df.loc[dfrefrange.index,:]"
   ]
  },
  {
   "cell_type": "code",
   "execution_count": 5,
   "metadata": {},
   "outputs": [],
   "source": [
    "def timeseries_evaluation_metrics_func(y_true, y_pred):\n",
    "    \n",
    "    def mean_absolute_percentage_error(y_true, y_pred): \n",
    "        y_true, y_pred = np.array(y_true), np.array(y_pred)\n",
    "        return np.mean(np.abs((y_true - y_pred) / y_true)) * 100\n",
    "    print('Evaluation metric results:-')\n",
    "    print(f'MSE is : {metrics.mean_squared_error(y_true, y_pred)}')\n",
    "    print(f'MAE is : {metrics.mean_absolute_error(y_true, y_pred)}')\n",
    "    print(f'RMSE is : {np.sqrt(metrics.mean_squared_error(y_true, y_pred))}')\n",
    "    print(f'MAPE is : {mean_absolute_percentage_error(y_true, y_pred)}')\n",
    "    print(f'R2 is : {metrics.r2_score(y_true, y_pred)}',end='\\n\\n')"
   ]
  },
  {
   "cell_type": "code",
   "execution_count": 6,
   "metadata": {},
   "outputs": [],
   "source": [
    "def Augmented_Dickey_Fuller_Test_func(series , column_name):\n",
    "    print (f'Results of Dickey-Fuller Test for column: {column_name}')\n",
    "    dftest = adfuller(series, autolag='AIC')\n",
    "    dfoutput = pd.Series(dftest[0:4], index=['Test Statistic','p-value','No Lags Used','Number of Observations Used'])\n",
    "    for key,value in dftest[4].items():\n",
    "       dfoutput['Critical Value (%s)'%key] = value\n",
    "    print (dfoutput)\n",
    "    if dftest[1] <= 0.05:\n",
    "        print(\"Conclusion:\")\n",
    "        print(\"Reject the null hypothesis\")\n",
    "        print(\"Data is stationary\")\n",
    "    else:\n",
    "        print(\"Conclusion:\")\n",
    "        print(\"Fail to reject the null hypothesis\")\n",
    "        print(\"series is non-stationary\")"
   ]
  },
  {
   "cell_type": "code",
   "execution_count": 7,
   "metadata": {},
   "outputs": [
    {
     "name": "stdout",
     "output_type": "stream",
     "text": [
      "Results of Dickey-Fuller Test for column: RealPower\n",
      "Test Statistic                -1.334002e+01\n",
      "p-value                        5.945867e-25\n",
      "No Lags Used                   4.000000e+01\n",
      "Number of Observations Used    1.330800e+04\n",
      "Critical Value (1%)           -3.430841e+00\n",
      "Critical Value (5%)           -2.861757e+00\n",
      "Critical Value (10%)          -2.566886e+00\n",
      "dtype: float64\n",
      "Conclusion:\n",
      "Reject the null hypothesis\n",
      "Data is stationary\n",
      "\n",
      "\n",
      "Results of Dickey-Fuller Test for column: ReactivePower\n",
      "Test Statistic                -1.393307e+01\n",
      "p-value                        5.048327e-26\n",
      "No Lags Used                   4.100000e+01\n",
      "Number of Observations Used    1.330700e+04\n",
      "Critical Value (1%)           -3.430842e+00\n",
      "Critical Value (5%)           -2.861757e+00\n",
      "Critical Value (10%)          -2.566886e+00\n",
      "dtype: float64\n",
      "Conclusion:\n",
      "Reject the null hypothesis\n",
      "Data is stationary\n",
      "\n",
      "\n"
     ]
    }
   ],
   "source": [
    "for name, column in df[['RealPower', 'ReactivePower']].iteritems():\n",
    "    Augmented_Dickey_Fuller_Test_func(df[name],name)\n",
    "    print('\\n')"
   ]
  },
  {
   "cell_type": "code",
   "execution_count": 8,
   "metadata": {},
   "outputs": [],
   "source": [
    "test_obs = int(0.8*(len(df)))\n",
    "train = df[:test_obs]\n",
    "test = df[test_obs:]\n"
   ]
  },
  {
   "cell_type": "code",
   "execution_count": 9,
   "metadata": {},
   "outputs": [],
   "source": [
    "from statsmodels.tsa.vector_ar.vecm import coint_johansen\n",
    "\n",
    "def cointegration_test(df): \n",
    "    res = coint_johansen(df,-1,5)\n",
    "    d = {'0.90':0, '0.95':1, '0.99':2}\n",
    "    traces = res.lr1\n",
    "    cvts = res.cvt[:, d[str(1-0.05)]]\n",
    "    def adjust(val, length= 6): \n",
    "        return str(val).ljust(length)\n",
    "    print('Column Name   >  Test Stat > C(95%)    =>   Signif  \\n', '--'*20)\n",
    "    for col, trace, cvt in zip(df.columns, traces, cvts):\n",
    "        print(adjust(col), '> ', adjust(round(trace,2), 9), \">\", adjust(cvt, 8), ' =>  ' , trace > cvt)"
   ]
  },
  {
   "cell_type": "code",
   "execution_count": 10,
   "metadata": {},
   "outputs": [],
   "source": [
    "# train_diff = train.diff()\n",
    "train_diff = train.copy()\n",
    "train_diff.dropna(inplace = True)"
   ]
  },
  {
   "cell_type": "code",
   "execution_count": 11,
   "metadata": {},
   "outputs": [
    {
     "name": "stdout",
     "output_type": "stream",
     "text": [
      "Column Name   >  Test Stat > C(95%)    =>   Signif  \n",
      " ----------------------------------------\n",
      "RealPower >  189.26    > 12.3212   =>   True\n",
      "ReactivePower >  14.01     > 4.1296    =>   True\n"
     ]
    }
   ],
   "source": [
    "cointegration_test(train_diff[list(df.columns)])"
   ]
  },
  {
   "cell_type": "code",
   "execution_count": 12,
   "metadata": {},
   "outputs": [],
   "source": [
    "from pmdarima import auto_arima"
   ]
  },
  {
   "cell_type": "code",
   "execution_count": 13,
   "metadata": {},
   "outputs": [
    {
     "name": "stdout",
     "output_type": "stream",
     "text": [
      "Searching order of p and q for : RealPower\n",
      "Performing stepwise search to minimize aic\n",
      " ARIMA(1,1,1)(0,0,0)[0] intercept   : AIC=65922.265, Time=1.02 sec\n",
      " ARIMA(0,1,0)(0,0,0)[0] intercept   : AIC=66645.375, Time=0.20 sec\n",
      " ARIMA(1,1,0)(0,0,0)[0] intercept   : AIC=65925.080, Time=0.45 sec\n",
      " ARIMA(0,1,1)(0,0,0)[0] intercept   : AIC=65943.474, Time=0.88 sec\n",
      " ARIMA(0,1,0)(0,0,0)[0]             : AIC=66643.376, Time=0.18 sec\n",
      " ARIMA(2,1,1)(0,0,0)[0] intercept   : AIC=65924.084, Time=2.14 sec\n",
      " ARIMA(1,1,2)(0,0,0)[0] intercept   : AIC=65755.288, Time=3.86 sec\n",
      " ARIMA(0,1,2)(0,0,0)[0] intercept   : AIC=65921.574, Time=1.61 sec\n",
      " ARIMA(2,1,2)(0,0,0)[0] intercept   : AIC=65752.635, Time=4.98 sec\n",
      " ARIMA(3,1,2)(0,0,0)[0] intercept   : AIC=inf, Time=15.99 sec\n",
      " ARIMA(2,1,3)(0,0,0)[0] intercept   : AIC=65683.547, Time=7.17 sec\n",
      " ARIMA(1,1,3)(0,0,0)[0] intercept   : AIC=65746.701, Time=4.19 sec\n",
      " ARIMA(3,1,3)(0,0,0)[0] intercept   : AIC=65631.679, Time=15.36 sec\n",
      " ARIMA(4,1,3)(0,0,0)[0] intercept   : AIC=65593.170, Time=10.81 sec\n",
      " ARIMA(4,1,2)(0,0,0)[0] intercept   : AIC=65591.350, Time=7.01 sec\n",
      " ARIMA(4,1,1)(0,0,0)[0] intercept   : AIC=65759.133, Time=5.47 sec\n",
      " ARIMA(5,1,2)(0,0,0)[0] intercept   : AIC=65593.222, Time=8.01 sec\n",
      " ARIMA(3,1,1)(0,0,0)[0] intercept   : AIC=65706.121, Time=4.50 sec\n",
      " ARIMA(5,1,1)(0,0,0)[0] intercept   : AIC=65723.156, Time=9.16 sec\n",
      " ARIMA(5,1,3)(0,0,0)[0] intercept   : AIC=65595.265, Time=10.37 sec\n",
      " ARIMA(4,1,2)(0,0,0)[0]             : AIC=65589.350, Time=2.66 sec\n",
      " ARIMA(3,1,2)(0,0,0)[0]             : AIC=inf, Time=4.39 sec\n",
      " ARIMA(4,1,1)(0,0,0)[0]             : AIC=65757.133, Time=1.29 sec\n",
      " ARIMA(5,1,2)(0,0,0)[0]             : AIC=65591.222, Time=2.91 sec\n",
      " ARIMA(4,1,3)(0,0,0)[0]             : AIC=65591.170, Time=4.15 sec\n",
      " ARIMA(3,1,1)(0,0,0)[0]             : AIC=65704.121, Time=1.66 sec\n",
      " ARIMA(3,1,3)(0,0,0)[0]             : AIC=65629.681, Time=4.73 sec\n",
      " ARIMA(5,1,1)(0,0,0)[0]             : AIC=65721.156, Time=3.15 sec\n",
      " ARIMA(5,1,3)(0,0,0)[0]             : AIC=65593.265, Time=3.85 sec\n",
      "\n",
      "Best model:  ARIMA(4,1,2)(0,0,0)[0]          \n",
      "Total fit time: 142.157 seconds\n",
      "optimal order for:RealPower is: (4, 1, 2) \n",
      "\n",
      "\n",
      "Searching order of p and q for : ReactivePower\n",
      "Performing stepwise search to minimize aic\n",
      " ARIMA(1,1,1)(0,0,0)[0] intercept   : AIC=54777.291, Time=1.26 sec\n",
      " ARIMA(0,1,0)(0,0,0)[0] intercept   : AIC=55198.385, Time=0.22 sec\n",
      " ARIMA(1,1,0)(0,0,0)[0] intercept   : AIC=54821.883, Time=0.40 sec\n",
      " ARIMA(0,1,1)(0,0,0)[0] intercept   : AIC=54776.265, Time=0.79 sec\n",
      " ARIMA(0,1,0)(0,0,0)[0]             : AIC=55196.387, Time=0.14 sec\n",
      " ARIMA(0,1,2)(0,0,0)[0] intercept   : AIC=54776.391, Time=1.29 sec\n",
      " ARIMA(1,1,2)(0,0,0)[0] intercept   : AIC=54534.796, Time=3.28 sec\n",
      " ARIMA(2,1,2)(0,0,0)[0] intercept   : AIC=54476.700, Time=5.27 sec\n",
      " ARIMA(2,1,1)(0,0,0)[0] intercept   : AIC=54741.301, Time=2.82 sec\n",
      " ARIMA(3,1,2)(0,0,0)[0] intercept   : AIC=54444.032, Time=4.97 sec\n",
      " ARIMA(3,1,1)(0,0,0)[0] intercept   : AIC=54467.681, Time=5.26 sec\n",
      " ARIMA(4,1,2)(0,0,0)[0] intercept   : AIC=54431.926, Time=13.30 sec\n",
      " ARIMA(4,1,1)(0,0,0)[0] intercept   : AIC=54431.544, Time=4.49 sec\n",
      " ARIMA(4,1,0)(0,0,0)[0] intercept   : AIC=54613.898, Time=1.20 sec\n",
      " ARIMA(5,1,1)(0,0,0)[0] intercept   : AIC=54429.770, Time=7.41 sec\n",
      " ARIMA(5,1,0)(0,0,0)[0] intercept   : AIC=54518.484, Time=1.32 sec\n",
      " ARIMA(6,1,1)(0,0,0)[0] intercept   : AIC=54516.473, Time=3.04 sec\n",
      " ARIMA(5,1,2)(0,0,0)[0] intercept   : AIC=54416.269, Time=7.66 sec\n",
      " ARIMA(6,1,2)(0,0,0)[0] intercept   : AIC=54417.972, Time=10.83 sec\n",
      " ARIMA(5,1,3)(0,0,0)[0] intercept   : AIC=54078.345, Time=23.94 sec\n",
      " ARIMA(4,1,3)(0,0,0)[0] intercept   : AIC=54416.801, Time=11.15 sec\n",
      " ARIMA(6,1,3)(0,0,0)[0] intercept   : AIC=54063.025, Time=35.71 sec\n",
      " ARIMA(7,1,3)(0,0,0)[0] intercept   : AIC=inf, Time=44.85 sec\n",
      " ARIMA(6,1,4)(0,0,0)[0] intercept   : AIC=inf, Time=122.75 sec\n",
      " ARIMA(5,1,4)(0,0,0)[0] intercept   : AIC=inf, Time=47.65 sec\n",
      " ARIMA(7,1,2)(0,0,0)[0] intercept   : AIC=54367.909, Time=12.92 sec\n",
      " ARIMA(7,1,4)(0,0,0)[0] intercept   : AIC=54030.696, Time=57.46 sec\n",
      " ARIMA(8,1,4)(0,0,0)[0] intercept   : AIC=53978.432, Time=104.01 sec\n",
      " ARIMA(8,1,3)(0,0,0)[0] intercept   : AIC=54036.245, Time=51.85 sec\n",
      " ARIMA(9,1,4)(0,0,0)[0] intercept   : AIC=53966.795, Time=215.61 sec\n",
      " ARIMA(9,1,3)(0,0,0)[0] intercept   : AIC=54021.824, Time=60.22 sec\n",
      " ARIMA(10,1,4)(0,0,0)[0] intercept   : AIC=inf, Time=204.45 sec\n",
      " ARIMA(9,1,5)(0,0,0)[0] intercept   : AIC=inf, Time=196.31 sec\n",
      " ARIMA(8,1,5)(0,0,0)[0] intercept   : AIC=inf, Time=150.26 sec\n",
      " ARIMA(10,1,3)(0,0,0)[0] intercept   : AIC=inf, Time=179.34 sec\n",
      " ARIMA(10,1,5)(0,0,0)[0] intercept   : AIC=53935.063, Time=166.45 sec\n",
      " ARIMA(11,1,5)(0,0,0)[0] intercept   : AIC=inf, Time=266.81 sec\n",
      " ARIMA(10,1,6)(0,0,0)[0] intercept   : AIC=inf, Time=231.86 sec\n",
      " ARIMA(9,1,6)(0,0,0)[0] intercept   : AIC=inf, Time=155.06 sec\n",
      " ARIMA(11,1,4)(0,0,0)[0] intercept   : AIC=inf, Time=137.81 sec\n",
      " ARIMA(11,1,6)(0,0,0)[0] intercept   : AIC=inf, Time=112.01 sec\n",
      " ARIMA(10,1,5)(0,0,0)[0]             : AIC=inf, Time=59.99 sec\n",
      "\n",
      "Best model:  ARIMA(10,1,5)(0,0,0)[0] intercept\n",
      "Total fit time: 2723.470 seconds\n",
      "optimal order for:ReactivePower is: (10, 1, 5) \n",
      "\n",
      "\n"
     ]
    }
   ],
   "source": [
    "pq = []\n",
    "for name, column in train_diff[list(df.columns)].iteritems():\n",
    "    print(f'Searching order of p and q for : {name}')\n",
    "    stepwise_model = auto_arima(train_diff[name],start_p=1, start_q=1,max_p=20, max_q=20, seasonal=False,\n",
    "        trace=True,error_action='ignore',suppress_warnings=True, stepwise=True,maxiter=1000)\n",
    "    parameter = stepwise_model.get_params().get('order')\n",
    "    print(f'optimal order for:{name} is: {parameter} \\n\\n')\n",
    "    pq.append(stepwise_model.get_params().get('order'))"
   ]
  },
  {
   "cell_type": "code",
   "execution_count": 14,
   "metadata": {},
   "outputs": [],
   "source": [
    "def inverse_diff(actual_df, pred_df):\n",
    "    df_res = pred_df.copy()\n",
    "    columns = actual_df.columns\n",
    "    for col in columns: \n",
    "        df_res[str(col)+'_1st_inv_diff'] = actual_df[col].iloc[-1] + df_res[str(col)].cumsum()\n",
    "    return df_res"
   ]
  },
  {
   "cell_type": "code",
   "execution_count": 17,
   "metadata": {},
   "outputs": [
    {
     "data": {
      "text/plain": [
       "[(4, 1, 2), (10, 1, 5)]"
      ]
     },
     "execution_count": 17,
     "metadata": {},
     "output_type": "execute_result"
    }
   ],
   "source": [
    "pq"
   ]
  },
  {
   "cell_type": "code",
   "execution_count": 18,
   "metadata": {},
   "outputs": [
    {
     "name": "stdout",
     "output_type": "stream",
     "text": [
      "Grid Search Started\n",
      " Running for (4, 1, 2)\n",
      " Running for (10, 1, 5)\n",
      " Total time taken to complete grid search in seconds: 238.5797092000139\n"
     ]
    }
   ],
   "source": [
    "df_results_moni = pd.DataFrame(columns=['p', 'q','RealPower','ReactivePower'])\n",
    "print('Grid Search Started')\n",
    "start = timer()\n",
    "for i in pq:\n",
    "    if i[0]== 0 and i[2] ==0:\n",
    "        pass\n",
    "    else:\n",
    "        print(f' Running for {i}')\n",
    "        model = VARMAX(train_diff[list(df.columns)], order=(i[0],i[2])).fit( disp=False)\n",
    "        result = model.forecast(steps = test['RealPower'].shape[0])\n",
    "        # inv_res = inverse_diff(train_diff[list(df.columns)] , result)\n",
    "        inv_res = result.copy()\n",
    "        RealPowerrmse = np.sqrt(metrics.mean_squared_error(test['RealPower'], inv_res.RealPower))\n",
    "        ReactivePowerrmse = np.sqrt(metrics.mean_squared_error(test['ReactivePower'], inv_res.ReactivePower))\n",
    "        df_results_moni = df_results_moni.append({'p': i[0], 'q': i[2], 'RMSE RealPower':RealPowerrmse,'RMSE ReactivePower':ReactivePowerrmse}, ignore_index=True)\n",
    "end = timer()\n",
    "print(f' Total time taken to complete grid search in seconds: {(end - start)}')"
   ]
  },
  {
   "cell_type": "code",
   "execution_count": 19,
   "metadata": {},
   "outputs": [
    {
     "data": {
      "text/html": [
       "<div>\n",
       "<style scoped>\n",
       "    .dataframe tbody tr th:only-of-type {\n",
       "        vertical-align: middle;\n",
       "    }\n",
       "\n",
       "    .dataframe tbody tr th {\n",
       "        vertical-align: top;\n",
       "    }\n",
       "\n",
       "    .dataframe thead th {\n",
       "        text-align: right;\n",
       "    }\n",
       "</style>\n",
       "<table border=\"1\" class=\"dataframe\">\n",
       "  <thead>\n",
       "    <tr style=\"text-align: right;\">\n",
       "      <th></th>\n",
       "      <th>p</th>\n",
       "      <th>q</th>\n",
       "      <th>RealPower</th>\n",
       "      <th>ReactivePower</th>\n",
       "      <th>RMSE ReactivePower</th>\n",
       "      <th>RMSE RealPower</th>\n",
       "    </tr>\n",
       "  </thead>\n",
       "  <tbody>\n",
       "    <tr>\n",
       "      <th>0</th>\n",
       "      <td>4.0</td>\n",
       "      <td>2.0</td>\n",
       "      <td>NaN</td>\n",
       "      <td>NaN</td>\n",
       "      <td>13.578947</td>\n",
       "      <td>39.320455</td>\n",
       "    </tr>\n",
       "    <tr>\n",
       "      <th>1</th>\n",
       "      <td>10.0</td>\n",
       "      <td>5.0</td>\n",
       "      <td>NaN</td>\n",
       "      <td>NaN</td>\n",
       "      <td>13.555902</td>\n",
       "      <td>39.257086</td>\n",
       "    </tr>\n",
       "  </tbody>\n",
       "</table>\n",
       "</div>"
      ],
      "text/plain": [
       "      p    q  RealPower  ReactivePower  RMSE ReactivePower  RMSE RealPower\n",
       "0   4.0  2.0        NaN            NaN           13.578947       39.320455\n",
       "1  10.0  5.0        NaN            NaN           13.555902       39.257086"
      ]
     },
     "execution_count": 19,
     "metadata": {},
     "output_type": "execute_result"
    }
   ],
   "source": [
    "df_results_moni"
   ]
  },
  {
   "cell_type": "code",
   "execution_count": 20,
   "metadata": {},
   "outputs": [],
   "source": [
    "# from above example we can see that p=10 and q=5 gives least RMSE\n",
    "model = VARMAX(train[list(df.columns)], order=(10,5)).fit( disp=False)\n"
   ]
  },
  {
   "cell_type": "code",
   "execution_count": 37,
   "metadata": {},
   "outputs": [],
   "source": [
    "#test it out\n",
    "result = model.get_forecast(steps = 4) "
   ]
  },
  {
   "cell_type": "code",
   "execution_count": 38,
   "metadata": {},
   "outputs": [
    {
     "data": {
      "text/html": [
       "<div>\n",
       "<style scoped>\n",
       "    .dataframe tbody tr th:only-of-type {\n",
       "        vertical-align: middle;\n",
       "    }\n",
       "\n",
       "    .dataframe tbody tr th {\n",
       "        vertical-align: top;\n",
       "    }\n",
       "\n",
       "    .dataframe thead th {\n",
       "        text-align: right;\n",
       "    }\n",
       "</style>\n",
       "<table border=\"1\" class=\"dataframe\">\n",
       "  <thead>\n",
       "    <tr style=\"text-align: right;\">\n",
       "      <th></th>\n",
       "      <th>RealPower</th>\n",
       "      <th>ReactivePower</th>\n",
       "    </tr>\n",
       "  </thead>\n",
       "  <tbody>\n",
       "    <tr>\n",
       "      <th>10679</th>\n",
       "      <td>78.482436</td>\n",
       "      <td>45.772356</td>\n",
       "    </tr>\n",
       "    <tr>\n",
       "      <th>10680</th>\n",
       "      <td>78.335489</td>\n",
       "      <td>45.323569</td>\n",
       "    </tr>\n",
       "    <tr>\n",
       "      <th>10681</th>\n",
       "      <td>79.006597</td>\n",
       "      <td>45.447791</td>\n",
       "    </tr>\n",
       "    <tr>\n",
       "      <th>10682</th>\n",
       "      <td>79.600766</td>\n",
       "      <td>45.512100</td>\n",
       "    </tr>\n",
       "  </tbody>\n",
       "</table>\n",
       "</div>"
      ],
      "text/plain": [
       "       RealPower  ReactivePower\n",
       "10679  78.482436      45.772356\n",
       "10680  78.335489      45.323569\n",
       "10681  79.006597      45.447791\n",
       "10682  79.600766      45.512100"
      ]
     },
     "execution_count": 38,
     "metadata": {},
     "output_type": "execute_result"
    }
   ],
   "source": [
    "result.predicted_mean"
   ]
  },
  {
   "cell_type": "code",
   "execution_count": 39,
   "metadata": {},
   "outputs": [
    {
     "data": {
      "text/html": [
       "<div>\n",
       "<style scoped>\n",
       "    .dataframe tbody tr th:only-of-type {\n",
       "        vertical-align: middle;\n",
       "    }\n",
       "\n",
       "    .dataframe tbody tr th {\n",
       "        vertical-align: top;\n",
       "    }\n",
       "\n",
       "    .dataframe thead th {\n",
       "        text-align: right;\n",
       "    }\n",
       "</style>\n",
       "<table border=\"1\" class=\"dataframe\">\n",
       "  <thead>\n",
       "    <tr style=\"text-align: right;\">\n",
       "      <th></th>\n",
       "      <th>lower RealPower</th>\n",
       "      <th>lower ReactivePower</th>\n",
       "      <th>upper RealPower</th>\n",
       "      <th>upper ReactivePower</th>\n",
       "    </tr>\n",
       "  </thead>\n",
       "  <tbody>\n",
       "    <tr>\n",
       "      <th>10679</th>\n",
       "      <td>72.774873</td>\n",
       "      <td>42.427743</td>\n",
       "      <td>84.189998</td>\n",
       "      <td>49.116968</td>\n",
       "    </tr>\n",
       "    <tr>\n",
       "      <th>10680</th>\n",
       "      <td>69.423684</td>\n",
       "      <td>40.223559</td>\n",
       "      <td>87.247295</td>\n",
       "      <td>50.423578</td>\n",
       "    </tr>\n",
       "    <tr>\n",
       "      <th>10681</th>\n",
       "      <td>67.859898</td>\n",
       "      <td>39.215777</td>\n",
       "      <td>90.153297</td>\n",
       "      <td>51.679804</td>\n",
       "    </tr>\n",
       "    <tr>\n",
       "      <th>10682</th>\n",
       "      <td>66.746653</td>\n",
       "      <td>38.516637</td>\n",
       "      <td>92.454880</td>\n",
       "      <td>52.507563</td>\n",
       "    </tr>\n",
       "  </tbody>\n",
       "</table>\n",
       "</div>"
      ],
      "text/plain": [
       "       lower RealPower  lower ReactivePower  upper RealPower  \\\n",
       "10679        72.774873            42.427743        84.189998   \n",
       "10680        69.423684            40.223559        87.247295   \n",
       "10681        67.859898            39.215777        90.153297   \n",
       "10682        66.746653            38.516637        92.454880   \n",
       "\n",
       "       upper ReactivePower  \n",
       "10679            49.116968  \n",
       "10680            50.423578  \n",
       "10681            51.679804  \n",
       "10682            52.507563  "
      ]
     },
     "execution_count": 39,
     "metadata": {},
     "output_type": "execute_result"
    }
   ],
   "source": [
    "result.conf_int(alpha=0.25) #quartile"
   ]
  },
  {
   "cell_type": "code",
   "execution_count": 41,
   "metadata": {},
   "outputs": [],
   "source": [
    "forecast_step = 4\n",
    "numiters = test.shape[0]-forecast_step+1"
   ]
  },
  {
   "cell_type": "code",
   "execution_count": 148,
   "metadata": {},
   "outputs": [],
   "source": [
    "errors = {}\n",
    "regionfit = {}\n",
    "\n",
    "for _ in range(forecast_step):\n",
    "    errors[str(_)] = []\n",
    "    regionfit[str(_)] = []"
   ]
  },
  {
   "cell_type": "code",
   "execution_count": 149,
   "metadata": {},
   "outputs": [],
   "source": [
    "from numpy import linalg as LA"
   ]
  },
  {
   "cell_type": "code",
   "execution_count": 150,
   "metadata": {},
   "outputs": [],
   "source": [
    "for ct in range(numiters):\n",
    "    model_infer = model.apply(pd.concat([train.iloc[ct:,:],test.iloc[:ct,:]]))\n",
    "    result = model_infer.get_forecast(steps = forecast_step)\n",
    "    conf_interval = result.conf_int(alpha = 0.75) #quartile?\n",
    "    for _ in range(forecast_step):\n",
    "        #error\n",
    "        errorraw = result.predicted_mean.iloc[_:_+1,:].values - test.iloc[ct:ct+_+1,:].values\n",
    "        errors[str(_)].append(np.apply_along_axis(LA.norm,1,errorraw)[0])\n",
    "        \n",
    "        #predictinterval\n",
    "        boolresult = test.iloc[ct+_:ct+_+1,0].values > conf_interval['lower RealPower'].iloc[_] and \\\n",
    "        test.iloc[ct+_:ct+_+1,0].values < conf_interval['upper RealPower'].iloc[_] and \\\n",
    "        test.iloc[ct+_:ct+_+1,1].values > conf_interval['lower ReactivePower'].iloc[_] and \\\n",
    "        test.iloc[ct+_:ct+_+1,1].values < conf_interval['upper ReactivePower'].iloc[_]\n",
    "\n",
    "        regionfit[str(_)].append(boolresult[0])"
   ]
  },
  {
   "cell_type": "code",
   "execution_count": 152,
   "metadata": {},
   "outputs": [],
   "source": [
    "backup((errors,regionfit),\"varmax_results.pickle\")"
   ]
  },
  {
   "cell_type": "code",
   "execution_count": 153,
   "metadata": {},
   "outputs": [
    {
     "data": {
      "text/plain": [
       "0    4.116195\n",
       "1    4.844249\n",
       "2    5.807741\n",
       "3    6.865776\n",
       "dtype: float64"
      ]
     },
     "execution_count": 153,
     "metadata": {},
     "output_type": "execute_result"
    }
   ],
   "source": [
    "pd.DataFrame(errors).apply(np.mean)"
   ]
  },
  {
   "cell_type": "markdown",
   "metadata": {},
   "source": [
    "### MSE for the each time step:\n",
    "0    4.116195 \\\n",
    "1    4.844249 \\\n",
    "2    5.807741 \\\n",
    "3    6.865776 \\\n",
    "dtype: float64"
   ]
  },
  {
   "cell_type": "code",
   "execution_count": 151,
   "metadata": {},
   "outputs": [
    {
     "name": "stdout",
     "output_type": "stream",
     "text": [
      "0.2388451443569554\n",
      "0.24109486314210724\n",
      "0.24109486314210724\n",
      "0.2268466441694788\n"
     ]
    }
   ],
   "source": [
    "for _ in range(forecast_step):\n",
    "    print(pd.DataFrame(regionfit).iloc[:,_].value_counts()[True]/pd.DataFrame(regionfit).shape[0])"
   ]
  },
  {
   "cell_type": "markdown",
   "metadata": {},
   "source": [
    "### prediction interval fraction for each timestep\n",
    "0.2388451443569554 \\\n",
    "0.24109486314210724 \\\n",
    "0.24109486314210724 \\\n",
    "0.2268466441694788"
   ]
  },
  {
   "cell_type": "code",
   "execution_count": 146,
   "metadata": {},
   "outputs": [
    {
     "data": {
      "text/html": [
       "<div>\n",
       "<style scoped>\n",
       "    .dataframe tbody tr th:only-of-type {\n",
       "        vertical-align: middle;\n",
       "    }\n",
       "\n",
       "    .dataframe tbody tr th {\n",
       "        vertical-align: top;\n",
       "    }\n",
       "\n",
       "    .dataframe thead th {\n",
       "        text-align: right;\n",
       "    }\n",
       "</style>\n",
       "<table border=\"1\" class=\"dataframe\">\n",
       "  <thead>\n",
       "    <tr style=\"text-align: right;\">\n",
       "      <th></th>\n",
       "      <th>lower RealPower</th>\n",
       "      <th>lower ReactivePower</th>\n",
       "      <th>upper RealPower</th>\n",
       "      <th>upper ReactivePower</th>\n",
       "    </tr>\n",
       "  </thead>\n",
       "  <tbody>\n",
       "    <tr>\n",
       "      <th>2020-02-28 23:15:00</th>\n",
       "      <td>106.612216</td>\n",
       "      <td>54.086255</td>\n",
       "      <td>107.234467</td>\n",
       "      <td>54.450892</td>\n",
       "    </tr>\n",
       "    <tr>\n",
       "      <th>2020-02-28 23:30:00</th>\n",
       "      <td>105.480395</td>\n",
       "      <td>53.771114</td>\n",
       "      <td>106.451980</td>\n",
       "      <td>54.327128</td>\n",
       "    </tr>\n",
       "    <tr>\n",
       "      <th>2020-02-28 23:45:00</th>\n",
       "      <td>105.410504</td>\n",
       "      <td>54.316110</td>\n",
       "      <td>106.625741</td>\n",
       "      <td>54.995537</td>\n",
       "    </tr>\n",
       "    <tr>\n",
       "      <th>2020-02-29 00:00:00</th>\n",
       "      <td>103.719814</td>\n",
       "      <td>53.783443</td>\n",
       "      <td>105.121197</td>\n",
       "      <td>54.546104</td>\n",
       "    </tr>\n",
       "  </tbody>\n",
       "</table>\n",
       "</div>"
      ],
      "text/plain": [
       "                     lower RealPower  lower ReactivePower  upper RealPower  \\\n",
       "2020-02-28 23:15:00       106.612216            54.086255       107.234467   \n",
       "2020-02-28 23:30:00       105.480395            53.771114       106.451980   \n",
       "2020-02-28 23:45:00       105.410504            54.316110       106.625741   \n",
       "2020-02-29 00:00:00       103.719814            53.783443       105.121197   \n",
       "\n",
       "                     upper ReactivePower  \n",
       "2020-02-28 23:15:00            54.450892  \n",
       "2020-02-28 23:30:00            54.327128  \n",
       "2020-02-28 23:45:00            54.995537  \n",
       "2020-02-29 00:00:00            54.546104  "
      ]
     },
     "execution_count": 146,
     "metadata": {},
     "output_type": "execute_result"
    }
   ],
   "source": [
    "result.conf_int(alpha = 0.95)"
   ]
  },
  {
   "cell_type": "code",
   "execution_count": 141,
   "metadata": {},
   "outputs": [
    {
     "data": {
      "text/plain": [
       "2667"
      ]
     },
     "execution_count": 141,
     "metadata": {},
     "output_type": "execute_result"
    }
   ],
   "source": [
    "pd.DataFrame(regionfit).shape[0]"
   ]
  },
  {
   "cell_type": "code",
   "execution_count": 71,
   "metadata": {},
   "outputs": [
    {
     "data": {
      "text/plain": [
       "78.48243588055456"
      ]
     },
     "execution_count": 71,
     "metadata": {},
     "output_type": "execute_result"
    }
   ],
   "source": [
    "_ = 0\n",
    "ct = 0\n",
    "\n",
    "testind = test.iloc[ct:ct+_+1,:].values\n",
    "testind > conf_interval['lower RealPower'].iloc[_] and "
   ]
  },
  {
   "cell_type": "code",
   "execution_count": 85,
   "metadata": {},
   "outputs": [
    {
     "data": {
      "text/plain": [
       "array([ True])"
      ]
     },
     "execution_count": 85,
     "metadata": {},
     "output_type": "execute_result"
    }
   ],
   "source": [
    "testind = test.iloc[ct:ct+_+1,0].values\n",
    "testind > conf_interval['lower RealPower'].iloc[_]"
   ]
  },
  {
   "cell_type": "code",
   "execution_count": 97,
   "metadata": {},
   "outputs": [
    {
     "data": {
      "text/html": [
       "<div>\n",
       "<style scoped>\n",
       "    .dataframe tbody tr th:only-of-type {\n",
       "        vertical-align: middle;\n",
       "    }\n",
       "\n",
       "    .dataframe tbody tr th {\n",
       "        vertical-align: top;\n",
       "    }\n",
       "\n",
       "    .dataframe thead th {\n",
       "        text-align: right;\n",
       "    }\n",
       "</style>\n",
       "<table border=\"1\" class=\"dataframe\">\n",
       "  <thead>\n",
       "    <tr style=\"text-align: right;\">\n",
       "      <th></th>\n",
       "      <th>RealPower</th>\n",
       "      <th>ReactivePower</th>\n",
       "    </tr>\n",
       "    <tr>\n",
       "      <th>DateTime</th>\n",
       "      <th></th>\n",
       "      <th></th>\n",
       "    </tr>\n",
       "  </thead>\n",
       "  <tbody>\n",
       "    <tr>\n",
       "      <th>2020-02-01 04:45:00</th>\n",
       "      <td>78.499</td>\n",
       "      <td>45.929</td>\n",
       "    </tr>\n",
       "    <tr>\n",
       "      <th>2020-02-01 05:00:00</th>\n",
       "      <td>79.588</td>\n",
       "      <td>46.052</td>\n",
       "    </tr>\n",
       "    <tr>\n",
       "      <th>2020-02-01 05:15:00</th>\n",
       "      <td>78.472</td>\n",
       "      <td>45.061</td>\n",
       "    </tr>\n",
       "    <tr>\n",
       "      <th>2020-02-01 05:30:00</th>\n",
       "      <td>78.282</td>\n",
       "      <td>43.569</td>\n",
       "    </tr>\n",
       "    <tr>\n",
       "      <th>2020-02-01 05:45:00</th>\n",
       "      <td>78.297</td>\n",
       "      <td>43.933</td>\n",
       "    </tr>\n",
       "    <tr>\n",
       "      <th>...</th>\n",
       "      <td>...</td>\n",
       "      <td>...</td>\n",
       "    </tr>\n",
       "    <tr>\n",
       "      <th>2020-02-28 23:00:00</th>\n",
       "      <td>109.170</td>\n",
       "      <td>54.784</td>\n",
       "    </tr>\n",
       "    <tr>\n",
       "      <th>2020-02-28 23:15:00</th>\n",
       "      <td>69.224</td>\n",
       "      <td>45.003</td>\n",
       "    </tr>\n",
       "    <tr>\n",
       "      <th>2020-02-28 23:30:00</th>\n",
       "      <td>63.853</td>\n",
       "      <td>42.326</td>\n",
       "    </tr>\n",
       "    <tr>\n",
       "      <th>2020-02-28 23:45:00</th>\n",
       "      <td>64.538</td>\n",
       "      <td>42.076</td>\n",
       "    </tr>\n",
       "    <tr>\n",
       "      <th>2020-02-29 00:00:00</th>\n",
       "      <td>61.077</td>\n",
       "      <td>41.020</td>\n",
       "    </tr>\n",
       "  </tbody>\n",
       "</table>\n",
       "<p>2670 rows × 2 columns</p>\n",
       "</div>"
      ],
      "text/plain": [
       "                     RealPower  ReactivePower\n",
       "DateTime                                     \n",
       "2020-02-01 04:45:00     78.499         45.929\n",
       "2020-02-01 05:00:00     79.588         46.052\n",
       "2020-02-01 05:15:00     78.472         45.061\n",
       "2020-02-01 05:30:00     78.282         43.569\n",
       "2020-02-01 05:45:00     78.297         43.933\n",
       "...                        ...            ...\n",
       "2020-02-28 23:00:00    109.170         54.784\n",
       "2020-02-28 23:15:00     69.224         45.003\n",
       "2020-02-28 23:30:00     63.853         42.326\n",
       "2020-02-28 23:45:00     64.538         42.076\n",
       "2020-02-29 00:00:00     61.077         41.020\n",
       "\n",
       "[2670 rows x 2 columns]"
      ]
     },
     "execution_count": 97,
     "metadata": {},
     "output_type": "execute_result"
    }
   ],
   "source": [
    "test"
   ]
  },
  {
   "cell_type": "code",
   "execution_count": 77,
   "metadata": {},
   "outputs": [
    {
     "data": {
      "text/plain": [
       "<statsmodels.tsa.statespace.mlemodel.PredictionResultsWrapper at 0x7fab295edb10>"
      ]
     },
     "execution_count": 77,
     "metadata": {},
     "output_type": "execute_result"
    }
   ],
   "source": [
    "conf_interval"
   ]
  },
  {
   "cell_type": "code",
   "execution_count": 84,
   "metadata": {},
   "outputs": [],
   "source": [
    "result = model.forecast(steps = 4)"
   ]
  },
  {
   "cell_type": "code",
   "execution_count": 63,
   "metadata": {},
   "outputs": [],
   "source": [
    "# res = inverse_diff(df[list(df.columns)],result)\n",
    "# res.drop(labels=['RealPower','ReactivePower'],axis=1,inplace=True)\n",
    "# res.index = test.index"
   ]
  },
  {
   "cell_type": "code",
   "execution_count": 86,
   "metadata": {},
   "outputs": [],
   "source": [
    "result.index=test.iloc[:4,:].index"
   ]
  },
  {
   "cell_type": "code",
   "execution_count": 88,
   "metadata": {},
   "outputs": [
    {
     "data": {
      "text/plain": [
       "<matplotlib.axes._subplots.AxesSubplot at 0x7f2996db7090>"
      ]
     },
     "execution_count": 88,
     "metadata": {},
     "output_type": "execute_result"
    },
    {
     "data": {
      "image/png": "[encoded data removed]",
      "text/plain": [
       "<Figure size 720x576 with 1 Axes>"
      ]
     },
     "metadata": {
      "needs_background": "light"
     },
     "output_type": "display_data"
    }
   ],
   "source": [
    "pd.concat([test,result],axis=1).iloc[:4,:].plot(figsize=(10,8))"
   ]
  },
  {
   "cell_type": "code",
   "execution_count": 101,
   "metadata": {},
   "outputs": [],
   "source": [
    "model_infer = model.apply(pd.concat([train.iloc[8:,:],test.iloc[:8,:]]))"
   ]
  },
  {
   "cell_type": "code",
   "execution_count": 102,
   "metadata": {},
   "outputs": [],
   "source": [
    "result = model_infer.forecast(steps = 4)"
   ]
  },
  {
   "cell_type": "code",
   "execution_count": 103,
   "metadata": {},
   "outputs": [],
   "source": [
    "result.index=test.iloc[8:12,:].index"
   ]
  },
  {
   "cell_type": "code",
   "execution_count": 104,
   "metadata": {},
   "outputs": [
    {
     "data": {
      "text/plain": [
       "<matplotlib.axes._subplots.AxesSubplot at 0x7f2996266950>"
      ]
     },
     "execution_count": 104,
     "metadata": {},
     "output_type": "execute_result"
    },
    {
     "data": {
      "image/png": "[encoded data removed]",
      "text/plain": [
       "<Figure size 720x576 with 1 Axes>"
      ]
     },
     "metadata": {
      "needs_background": "light"
     },
     "output_type": "display_data"
    }
   ],
   "source": [
    "pd.concat([test,result],axis=1).iloc[8:12,:].plot(figsize=(10,8))"
   ]
  },
  {
   "cell_type": "code",
   "execution_count": 99,
   "metadata": {},
   "outputs": [
    {
     "data": {
      "text/html": [
       "<div>\n",
       "<style scoped>\n",
       "    .dataframe tbody tr th:only-of-type {\n",
       "        vertical-align: middle;\n",
       "    }\n",
       "\n",
       "    .dataframe tbody tr th {\n",
       "        vertical-align: top;\n",
       "    }\n",
       "\n",
       "    .dataframe thead th {\n",
       "        text-align: right;\n",
       "    }\n",
       "</style>\n",
       "<table border=\"1\" class=\"dataframe\">\n",
       "  <thead>\n",
       "    <tr style=\"text-align: right;\">\n",
       "      <th></th>\n",
       "      <th>RealPower</th>\n",
       "      <th>ReactivePower</th>\n",
       "      <th>RealPower</th>\n",
       "      <th>ReactivePower</th>\n",
       "    </tr>\n",
       "    <tr>\n",
       "      <th>DateTime</th>\n",
       "      <th></th>\n",
       "      <th></th>\n",
       "      <th></th>\n",
       "      <th></th>\n",
       "    </tr>\n",
       "  </thead>\n",
       "  <tbody>\n",
       "    <tr>\n",
       "      <th>2020-02-01 04:45:00</th>\n",
       "      <td>78.499</td>\n",
       "      <td>45.929</td>\n",
       "      <td>NaN</td>\n",
       "      <td>NaN</td>\n",
       "    </tr>\n",
       "    <tr>\n",
       "      <th>2020-02-01 05:00:00</th>\n",
       "      <td>79.588</td>\n",
       "      <td>46.052</td>\n",
       "      <td>NaN</td>\n",
       "      <td>NaN</td>\n",
       "    </tr>\n",
       "    <tr>\n",
       "      <th>2020-02-01 05:15:00</th>\n",
       "      <td>78.472</td>\n",
       "      <td>45.061</td>\n",
       "      <td>NaN</td>\n",
       "      <td>NaN</td>\n",
       "    </tr>\n",
       "    <tr>\n",
       "      <th>2020-02-01 05:30:00</th>\n",
       "      <td>78.282</td>\n",
       "      <td>43.569</td>\n",
       "      <td>NaN</td>\n",
       "      <td>NaN</td>\n",
       "    </tr>\n",
       "    <tr>\n",
       "      <th>2020-02-01 05:45:00</th>\n",
       "      <td>78.297</td>\n",
       "      <td>43.933</td>\n",
       "      <td>78.779856</td>\n",
       "      <td>43.679441</td>\n",
       "    </tr>\n",
       "    <tr>\n",
       "      <th>...</th>\n",
       "      <td>...</td>\n",
       "      <td>...</td>\n",
       "      <td>...</td>\n",
       "      <td>...</td>\n",
       "    </tr>\n",
       "    <tr>\n",
       "      <th>2020-02-28 23:00:00</th>\n",
       "      <td>109.170</td>\n",
       "      <td>54.784</td>\n",
       "      <td>NaN</td>\n",
       "      <td>NaN</td>\n",
       "    </tr>\n",
       "    <tr>\n",
       "      <th>2020-02-28 23:15:00</th>\n",
       "      <td>69.224</td>\n",
       "      <td>45.003</td>\n",
       "      <td>NaN</td>\n",
       "      <td>NaN</td>\n",
       "    </tr>\n",
       "    <tr>\n",
       "      <th>2020-02-28 23:30:00</th>\n",
       "      <td>63.853</td>\n",
       "      <td>42.326</td>\n",
       "      <td>NaN</td>\n",
       "      <td>NaN</td>\n",
       "    </tr>\n",
       "    <tr>\n",
       "      <th>2020-02-28 23:45:00</th>\n",
       "      <td>64.538</td>\n",
       "      <td>42.076</td>\n",
       "      <td>NaN</td>\n",
       "      <td>NaN</td>\n",
       "    </tr>\n",
       "    <tr>\n",
       "      <th>2020-02-29 00:00:00</th>\n",
       "      <td>61.077</td>\n",
       "      <td>41.020</td>\n",
       "      <td>NaN</td>\n",
       "      <td>NaN</td>\n",
       "    </tr>\n",
       "  </tbody>\n",
       "</table>\n",
       "<p>2670 rows × 4 columns</p>\n",
       "</div>"
      ],
      "text/plain": [
       "                     RealPower  ReactivePower  RealPower  ReactivePower\n",
       "DateTime                                                               \n",
       "2020-02-01 04:45:00     78.499         45.929        NaN            NaN\n",
       "2020-02-01 05:00:00     79.588         46.052        NaN            NaN\n",
       "2020-02-01 05:15:00     78.472         45.061        NaN            NaN\n",
       "2020-02-01 05:30:00     78.282         43.569        NaN            NaN\n",
       "2020-02-01 05:45:00     78.297         43.933  78.779856      43.679441\n",
       "...                        ...            ...        ...            ...\n",
       "2020-02-28 23:00:00    109.170         54.784        NaN            NaN\n",
       "2020-02-28 23:15:00     69.224         45.003        NaN            NaN\n",
       "2020-02-28 23:30:00     63.853         42.326        NaN            NaN\n",
       "2020-02-28 23:45:00     64.538         42.076        NaN            NaN\n",
       "2020-02-29 00:00:00     61.077         41.020        NaN            NaN\n",
       "\n",
       "[2670 rows x 4 columns]"
      ]
     },
     "execution_count": 99,
     "metadata": {},
     "output_type": "execute_result"
    }
   ],
   "source": [
    "pd.concat([test,result],axis=1)"
   ]
  },
  {
   "cell_type": "code",
   "execution_count": null,
   "metadata": {},
   "outputs": [],
   "source": []
  }
 ],
 "metadata": {
  "interpreter": {
   "hash": "a93b84ea9893d212d92b68e0592d8422e6dcb71276c756797a9534fa665d1f08"
  },
  "kernelspec": {
   "display_name": "Python 3 (ipykernel)",
   "language": "python",
   "name": "python3"
  },
  "language_info": {
   "codemirror_mode": {
    "name": "ipython",
    "version": 3
   },
   "file_extension": ".py",
   "mimetype": "text/x-python",
   "name": "python",
   "nbconvert_exporter": "python",
   "pygments_lexer": "ipython3",
   "version": "3.9.7"
  }
 },
 "nbformat": 4,
 "nbformat_minor": 2
}
